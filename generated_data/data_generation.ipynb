{
 "cells": [
  {
   "cell_type": "code",
   "execution_count": 37,
   "metadata": {},
   "outputs": [
    {
     "name": "stderr",
     "output_type": "stream",
     "text": [
      "\u001b[32m\u001b[1m  Activating\u001b[22m\u001b[39m project at `~/Documents/university /fall 2024/markov model/markvod_models/generated_data`\n"
     ]
    },
    {
     "name": "stdout",
     "output_type": "stream",
     "text": [
      "\u001b[32m\u001b[1mStatus\u001b[22m\u001b[39m `~/Documents/university /fall 2024/markov model/markvod_models/generated_data/Project.toml`\n",
      "\u001b[32m⌃\u001b[39m \u001b[90m[31c24e10] \u001b[39mDistributions v0.25.119\n",
      "\u001b[32m⌃\u001b[39m \u001b[90m[e9467ef8] \u001b[39mGLMakie v0.11.3\n",
      "  \u001b[90m[429524aa] \u001b[39mOptim v1.12.0\n",
      "\u001b[36m\u001b[1mInfo\u001b[22m\u001b[39m Packages marked with \u001b[32m⌃\u001b[39m have new versions available and may be upgradable.\n"
     ]
    }
   ],
   "source": [
    "using Pkg\n",
    "Pkg.activate(\".\")\n",
    "Pkg.instantiate()\n",
    "Pkg.status()"
   ]
  },
  {
   "cell_type": "code",
   "execution_count": 38,
   "metadata": {},
   "outputs": [
    {
     "data": {
      "text/plain": [
       "time_sequence_with_split (generic function with 1 method)"
      ]
     },
     "metadata": {},
     "output_type": "display_data"
    }
   ],
   "source": [
    "include(\"dimer_difussion.jl\")\n",
    "include(\"free_difusion.jl\")\n",
    "include(\"state_generator.jl\")"
   ]
  },
  {
   "cell_type": "code",
   "execution_count": 39,
   "metadata": {},
   "outputs": [
    {
     "data": {
      "text/plain": [
       "reverse_columns_preserve_size (generic function with 1 method)"
      ]
     },
     "metadata": {},
     "output_type": "display_data"
    }
   ],
   "source": [
    "\n",
    "using GLMakie\n",
    "function animate_particles(p1, p2, filename=\"particle_animation.mp4\")\n",
    "    n_steps = size(p1, 2)\n",
    "    \n",
    "    # Create figure\n",
    "    fig = Figure(size=(600, 600))\n",
    "    ax = Axis(fig[1, 1], aspect=DataAspect())\n",
    "    \n",
    "    # Calculate axis limits\n",
    "    all_x = vcat(p1[1,:], p2[1,:])\n",
    "    all_y = vcat(p1[2,:], p2[2,:])\n",
    "    \n",
    "    x_range = maximum(all_x) - minimum(all_x)\n",
    "    y_range = maximum(all_y) - minimum(all_y)\n",
    "    \n",
    "    limits!(ax, -1, 1, -1, 1)\n",
    "    \n",
    "    # Create initial points\n",
    "    point1 = scatter!([p1[1,1]], [p1[2,1]], color=:blue, markersize=10)\n",
    "    point2 = scatter!([p2[1,1]], [p2[2,1]], color=:red, markersize=10)\n",
    "    \n",
    "    # Create animation\n",
    "    record(fig, filename, 1:n_steps; framerate=10) do frame\n",
    "        # Update particle positions for current frame\n",
    "        point1[1] = [p1[1,frame]]\n",
    "        point1[2] = [p1[2,frame]]\n",
    "        \n",
    "        point2[1] = [p2[1,frame]]\n",
    "        point2[2] = [p2[2,frame]]\n",
    "    end\n",
    "    \n",
    "    return filename\n",
    "end\n",
    "\n",
    "\n",
    "\n",
    "\n",
    "function reverse_columns_preserve_size(arr)\n",
    "    num_rows, num_cols = size(arr)\n",
    "    result = zeros(eltype(arr), num_rows, num_cols)\n",
    "    \n",
    "    for col in 1:num_cols\n",
    "        result[:, col] = arr[:, num_cols - col + 1]\n",
    "    end\n",
    "    \n",
    "    return result\n",
    "end\n"
   ]
  },
  {
   "cell_type": "code",
   "execution_count": 40,
   "metadata": {},
   "outputs": [
    {
     "data": {
      "text/plain": [
       "shift (generic function with 1 method)"
      ]
     },
     "metadata": {},
     "output_type": "display_data"
    }
   ],
   "source": [
    "function shift(vec, shift_x, shift_y)\n",
    "    return vec .+ [shift_x, shift_y]\n",
    "end"
   ]
  },
  {
   "cell_type": "code",
   "execution_count": 41,
   "metadata": {},
   "outputs": [
    {
     "data": {
      "text/plain": [
       "path_correction (generic function with 1 method)"
      ]
     },
     "metadata": {},
     "output_type": "display_data"
    }
   ],
   "source": [
    "function path_correction(particle_path::Matrix{Float64}, new_destination::Vector{Float64})\n",
    "    \n",
    "    if size(particle_path, 1) != 2\n",
    "        error(\"Particle path must be a 2×n matrix\")\n",
    "    end\n",
    "    \n",
    "    if length(new_destination) != 2\n",
    "        error(\"New destination must be a 2-element vector\")\n",
    "    end\n",
    "    \n",
    "   \n",
    "    n = size(particle_path, 2)\n",
    "    \n",
    "    \n",
    "    start_point = particle_path[:, 1]\n",
    "    original_end = particle_path[:, end]\n",
    "    \n",
    "\n",
    "    original_displacement = original_end - start_point\n",
    "    desired_displacement = new_destination - start_point\n",
    "    \n",
    "  \n",
    "    new_path = copy(particle_path)\n",
    "    \n",
    "    \n",
    "    for i in 2:n\n",
    "        \n",
    "        t = (i - 1) / (n - 1)\n",
    "        \n",
    "       \n",
    "        expected_position = start_point + original_displacement * t\n",
    "        \n",
    "       \n",
    "        diffusion_component = particle_path[:, i] - expected_position\n",
    "        \n",
    "        \n",
    "        new_expected_position = start_point + desired_displacement * t\n",
    "        \n",
    "       \n",
    "        new_path[:, i] = new_expected_position + diffusion_component\n",
    "    end\n",
    "    \n",
    "    return new_path\n",
    "end"
   ]
  },
  {
   "cell_type": "markdown",
   "metadata": {},
   "source": [
    "# fucntion to generate the segements "
   ]
  },
  {
   "cell_type": "code",
   "execution_count": 42,
   "metadata": {},
   "outputs": [
    {
     "data": {
      "text/plain": [
       "segments (generic function with 1 method)"
      ]
     },
     "metadata": {},
     "output_type": "display_data"
    }
   ],
   "source": [
    "function segments(time_division::Vector, mode::Symbol;  D = 0.01, r = 0.2, box = 1.0, dt = 0.016)\n",
    "\n",
    "if mode == :full && length(time_division) == 3 # all the sections \n",
    "\n",
    "        p1_middle, p2_middle = constrained_diffusion(steps = time_division[2],    D = D, r = r, box = box, dt = dt)\n",
    "\n",
    "    init_post_r = ([p1_middle[1,end], p1_middle[2,end]],[p2_middle[1,end], p2_middle[2,end]])\n",
    "    p1_right, p2_right = simulate_diffusion(initial_positions = init_post_r, steps = time_division[3],  D = D, box = box, dt = dt)\n",
    "\n",
    "    init_post_l = ([p1_middle[1,1], p1_middle[2,1]], [p2_middle[1,1], p2_middle[2,1]])\n",
    "    p1_left, p2_left = simulate_diffusion(initial_positions = init_post_l, steps = time_division[1], D = D, box = box, dt = dt)\n",
    "    p1_left_reversed = reverse_columns_preserve_size(p1_left)\n",
    "    p2_left_reversed = reverse_columns_preserve_size(p2_left)\n",
    "\n",
    "    p1 = hcat(p1_left_reversed, p1_middle, p1_right)\n",
    "    p2 = hcat(p2_left_reversed, p2_middle, p2_right)\n",
    "\n",
    "    return p1, p2\n",
    "\n",
    "elseif mode == :right_half && length(time_division) == 2 # middle and right half\n",
    "\n",
    "    p1_middle, p2_middle = constrained_diffusion(steps = time_division[1],  D = D, r = r, box = box, dt = dt)\n",
    "\n",
    "    init_post_r = ([p1_middle[1,end], p1_middle[2,end]],  [p2_middle[1,end], p2_middle[2,end]])\n",
    "    p1_right, p2_right = simulate_diffusion(initial_positions = init_post_r, steps = time_division[2],  D = D, box = box, dt = dt)\n",
    "\n",
    "    p1 = hcat(p1_middle, p1_right)\n",
    "    p2 = hcat(p2_middle, p2_right)\n",
    "\n",
    "    return p1, p2\n",
    "\n",
    "elseif mode == :middle && length(time_division) == 1 # only middle half \n",
    "    p1_middle, p2_middle = constrained_diffusion(steps = time_division[1],  D = D, r = r, box = box, dt = dt)\n",
    "    p1 = hcat(p1_middle)\n",
    "    p2 = hcat(p2_middle)\n",
    "\n",
    "    return p1, p2\n",
    "\n",
    "elseif mode == :left_half && length(time_division) == 2 # middle and left half\n",
    "    p1_middle, p2_middle = constrained_diffusion(steps = time_division[2],   D = D, r = r, box = box, dt = dt)\n",
    "\n",
    "    init_post_l = ([p1_middle[1,1], p1_middle[2,1]],  [p2_middle[1,1], p2_middle[2,1]])\n",
    "    p1_left, p2_left = simulate_diffusion(initial_positions = init_post_l,  steps = time_division[1], D = D, box = box, dt = dt)\n",
    "    p1_left_reversed = reverse_columns_preserve_size(p1_left)\n",
    "    p2_left_reversed = reverse_columns_preserve_size(p2_left)\n",
    "\n",
    "    p1 = hcat(p1_left_reversed, p1_middle)\n",
    "    p2 = hcat(p2_left_reversed, p2_middle)\n",
    "    return p1, p2\n",
    "\n",
    "else\n",
    "    error(\"Invalid mode or time division\")\n",
    "end \n",
    "end"
   ]
  },
  {
   "cell_type": "code",
   "execution_count": 43,
   "metadata": {},
   "outputs": [
    {
     "data": {
      "text/plain": [
       "([0.18920401094322653 0.16665615827872038 … 0.15108879013571533 0.16966947259757184; 0.2485681995780218 0.2293513159941651 … 0.2435679198244321 0.27400798044899377], [0.1792040312308483 0.15933294839113593 … 0.355177131798385 0.32888293478219194; 0.2485883428653317 0.23616091193976904 … 0.16373613364534698 0.20405560065494086])"
      ]
     },
     "metadata": {},
     "output_type": "display_data"
    }
   ],
   "source": [
    "p1,p2 = segments([10,40], :right_half, r = 0.01, box = 1.0, dt = 0.016)"
   ]
  },
  {
   "cell_type": "markdown",
   "metadata": {},
   "source": [
    "# function to select the modes "
   ]
  },
  {
   "cell_type": "code",
   "execution_count": 44,
   "metadata": {},
   "outputs": [
    {
     "data": {
      "text/plain": [
       "modes_selection (generic function with 1 method)"
      ]
     },
     "metadata": {},
     "output_type": "display_data"
    }
   ],
   "source": [
    "function modes_selection(section::Vector )\n",
    "\n",
    "    size_section = length(section)\n",
    "    if size_section == 3\n",
    "        return :full\n",
    "    elseif size_section == 2\n",
    "        if section[1].first == 1 && section[2].first == 2\n",
    "            return :left_half\n",
    "        elseif section[1].first == 2 && section[2].first == 1\n",
    "            return :right_half\n",
    "        else\n",
    "            error(\"Invalid section combination\")\n",
    "        end\n",
    "    elseif size_section == 1\n",
    "        return :middle\n",
    "    else\n",
    "        error(\"Invalid number of sections\")\n",
    "    end\n",
    "\n",
    "end "
   ]
  },
  {
   "cell_type": "code",
   "execution_count": 45,
   "metadata": {},
   "outputs": [
    {
     "data": {
      "text/plain": [
       "5-element Vector{Any}:\n",
       " Any[1 => 11, 2 => 86, 1 => 7]\n",
       " Any[1 => 7, 2 => 39, 1 => 3]\n",
       " Any[1 => 4, 2 => 18, 1 => 1]\n",
       " Any[1 => 2, 2 => 249, 1 => 2]\n",
       " Any[1 => 2, 2 => 51, 1 => 1]"
      ]
     },
     "metadata": {},
     "output_type": "display_data"
    }
   ],
   "source": [
    "k12 = 0.5\n",
    "k21 = 0.15 \n",
    "states, steps = simulate_states(k12, k21, 10)\n",
    "transitions = get_state_transitions(states)\n",
    "time_in_state = time_sequence(states)\n",
    "split= time_sequence_with_split(states)\n",
    "\n"
   ]
  },
  {
   "cell_type": "code",
   "execution_count": 46,
   "metadata": {},
   "outputs": [
    {
     "data": {
      "text/plain": [
       ":full"
      ]
     },
     "metadata": {},
     "output_type": "display_data"
    }
   ],
   "source": [
    "modes = modes_selection(split[3])"
   ]
  },
  {
   "cell_type": "markdown",
   "metadata": {},
   "source": [
    "# extracrt time stamps froms segements"
   ]
  },
  {
   "cell_type": "code",
   "execution_count": 47,
   "metadata": {},
   "outputs": [
    {
     "data": {
      "text/plain": [
       "time_stamps (generic function with 1 method)"
      ]
     },
     "metadata": {},
     "output_type": "display_data"
    }
   ],
   "source": [
    "function time_stamps(time_state)\n",
    "\n",
    "    segments = []\n",
    "    for i in 1:length(time_state)\n",
    "        push!(segments, time_state[i].second)\n",
    "    end\n",
    "\n",
    "\n",
    "    return segments\n",
    "end "
   ]
  },
  {
   "cell_type": "code",
   "execution_count": 48,
   "metadata": {},
   "outputs": [
    {
     "data": {
      "text/plain": [
       "3-element Vector{Any}:\n",
       " 11\n",
       " 86\n",
       "  7"
      ]
     },
     "metadata": {},
     "output_type": "display_data"
    }
   ],
   "source": [
    "time = time_stamps(split[1])"
   ]
  },
  {
   "cell_type": "markdown",
   "metadata": {},
   "source": [
    "# function to modify array for path correction "
   ]
  },
  {
   "cell_type": "code",
   "execution_count": 49,
   "metadata": {},
   "outputs": [
    {
     "data": {
      "text/plain": [
       "path_correction! (generic function with 1 method)"
      ]
     },
     "metadata": {},
     "output_type": "display_data"
    }
   ],
   "source": [
    "function path_correction!(particle_path, new_destination::Vector{Float64})\n",
    "    if size(particle_path, 1) != 2\n",
    "        error(\"Particle path must be a 2×n matrix\")\n",
    "    end\n",
    "    \n",
    "    if length(new_destination) != 2\n",
    "        error(\"New destination must be a 2-element vector\")\n",
    "    end\n",
    "    \n",
    "    n = size(particle_path, 2)\n",
    "    \n",
    "    start_point = particle_path[:, 1]\n",
    "    original_end = particle_path[:, end]\n",
    "    \n",
    "    original_displacement = original_end - start_point\n",
    "    desired_displacement = new_destination - start_point\n",
    "    \n",
    "    for i in 2:n\n",
    "        t = (i - 1) / (n - 1)\n",
    "        \n",
    "        expected_position = start_point + original_displacement * t\n",
    "        \n",
    "        diffusion_component = particle_path[:, i] - expected_position\n",
    "        \n",
    "        new_expected_position = start_point + desired_displacement * t\n",
    "        \n",
    "        particle_path[:, i] = new_expected_position + diffusion_component\n",
    "    end\n",
    "    \n",
    "    return nothing\n",
    "end"
   ]
  },
  {
   "cell_type": "markdown",
   "metadata": {},
   "source": [
    "# function to genrate the whole simulation"
   ]
  },
  {
   "cell_type": "code",
   "execution_count": 50,
   "metadata": {},
   "outputs": [
    {
     "data": {
      "text/plain": [
       "simulation (generic function with 1 method)"
      ]
     },
     "metadata": {},
     "output_type": "display_data"
    }
   ],
   "source": [
    "function simulation(k_in ,k12_off,changes)\n",
    "\n",
    "    k12 = k_in\n",
    "    k21 = k12_off\n",
    "    states, steps = simulate_states(k12, k21, changes)\n",
    "    time_in_state = time_sequence_with_split(states)\n",
    "    split = time_sequence(states)\n",
    "    \n",
    "    \n",
    "    current_time  = 0 \n",
    "    Particle_1 = []\n",
    "    Particle_2 = []\n",
    "\n",
    "    for i in 1:length(time_in_state)\n",
    "\n",
    "        section_time_stamps = time_stamps(time_in_state[i])\n",
    "        modes = modes_selection(section_time_stamps)\n",
    "        println(\"section_time_stamps: \", section_time_stamps)\n",
    "        println(\"modes: \", modes)\n",
    "        if i == 1\n",
    "            p1,p2= segments(section_time_stamps, modes, r = 0.01, box = 1.0, dt = 0.016)\n",
    "            Particle_1 = p1\n",
    "            Particle_2 = p2\n",
    "            # println(\"p1: \", size(p1))\n",
    "            # println(\"p2: \", size(p2))\n",
    "        else \n",
    "            p1_temp, p2_temp = segments(section_time_stamps, modes, r = 0.01, box = 1.0, dt = 0.016)\n",
    "            # println(\"p1_temp: \", size(p1_temp))\n",
    "            # println(\"p2_temp: \", size(p2_temp))\n",
    "            shift_x = -p1_temp[1,1] + Particle_1[1,end]\n",
    "            shift_y = -p1_temp[2,1] + Particle_1[2,end]\n",
    "            # println(\"shift_x: \", shift_x)\n",
    "            # println(\"shift_y: \", shift_y)\n",
    "            p1= shift(p1_temp, shift_x, shift_y)\n",
    "            p2 = shift(p2_temp, shift_x, shift_y)\n",
    "            # println(\"p1: \", size(p1[:,1]))\n",
    "            # println(\"p2: \", size(p2[:,1]))\n",
    "            # println(\"time_in_state: \", time_in_state[i])\n",
    "            segment_view =  @view p2[:,1:time_in_state[i][1].second]\n",
    "        \n",
    "            path_correction!(segment_view, [Particle_2[1,end], Particle_2[2,end]])\n",
    "            # println(\"part_1: \", size(Particle_1))\n",
    "            # println(\"part_2: \", size(Particle_2))\n",
    "            Particle_1 = hcat(Particle_1, p1)\n",
    "            Particle_2 = hcat(Particle_2, p2)\n",
    "\n",
    "        end\n",
    "\n",
    "\n",
    "        \n",
    "        curren_time = length(Particle_1) \n",
    "\n",
    "    end\n",
    "   \n",
    "    \n",
    "    return Particle_1, Particle_2, states, steps, [k12, k21]\n",
    "\n",
    "\n",
    "end "
   ]
  },
  {
   "cell_type": "code",
   "execution_count": 51,
   "metadata": {},
   "outputs": [
    {
     "name": "stdout",
     "output_type": "stream",
     "text": [
      "section_time_stamps: Any[8, 4, 5]\n",
      "modes: full\n",
      "section_time_stamps: Any[6, 12, 1]\n",
      "modes: full\n",
      "section_time_stamps: Any[20, 5, 6]\n",
      "modes: full\n",
      "section_time_stamps: Any[12, 5, 6]\n",
      "modes: full\n"
     ]
    },
    {
     "ename": "ErrorException",
     "evalue": "type Int64 has no field first",
     "output_type": "error",
     "traceback": [
      "type Int64 has no field first\n",
      "\n",
      "Stacktrace:\n",
      " [1] getproperty(x::Int64, f::Symbol)\n",
      "   @ Base ./Base.jl:49\n",
      " [2] modes_selection(section::Vector{Any})\n",
      "   @ Main ~/Documents/university /fall 2024/markov model/markvod_models/generated_data/jl_notebook_cell_df34fa98e69747e1a8f8a730347b8e2f_X12sZmlsZQ==.jl:7\n",
      " [3] simulation(k_in::Float64, k12_off::Float64, changes::Int64)\n",
      "   @ Main ~/Documents/university /fall 2024/markov model/markvod_models/generated_data/jl_notebook_cell_df34fa98e69747e1a8f8a730347b8e2f_X24sZmlsZQ==.jl:17\n",
      " [4] top-level scope\n",
      "   @ ~/Documents/university /fall 2024/markov model/markvod_models/generated_data/jl_notebook_cell_df34fa98e69747e1a8f8a730347b8e2f_X25sZmlsZQ==.jl:1"
     ]
    }
   ],
   "source": [
    "p1,p2,states, steps,k= simulation(0.5, 0.5, 10) # (k_on,k_off,changes ) changes of states "
   ]
  },
  {
   "cell_type": "code",
   "execution_count": 52,
   "metadata": {},
   "outputs": [
    {
     "data": {
      "text/plain": [
       "\"total_animation.mp4\""
      ]
     },
     "metadata": {},
     "output_type": "display_data"
    }
   ],
   "source": [
    "\n",
    "animate_particles(p1, p2, \"total_animation.mp4\")\n",
    "\n"
   ]
  },
  {
   "cell_type": "code",
   "execution_count": 53,
   "metadata": {},
   "outputs": [],
   "source": []
  },
  {
   "cell_type": "markdown",
   "metadata": {},
   "source": [
    "# implementation on the forward algorithm"
   ]
  },
  {
   "cell_type": "code",
   "execution_count": 54,
   "metadata": {},
   "outputs": [
    {
     "data": {
      "text/plain": [
       "compute_free_density (generic function with 1 method)"
      ]
     },
     "metadata": {},
     "output_type": "display_data"
    }
   ],
   "source": [
    "function compute_free_density(particle1::Matrix{Float64}, particle2::Matrix{Float64}, index::Int; sigma=0.1, dt=0.01)\n",
    "\n",
    "\n",
    "# Calculate relative positions for current frame\n",
    "Δxn = particle1[1, index] - particle2[1, index]  \n",
    "Δyn = particle1[2, index] - particle2[2, index]  \n",
    "\n",
    "# Calculate relative positions for previous frame\n",
    "Δxn_1 = particle1[1, index-1] - particle2[1, index-1]  \n",
    "Δyn_1 = particle1[2, index-1] - particle2[2, index-1]  \n",
    "\n",
    "# Calculate squared distances and distances\n",
    "dn_1square = (Δxn_1^2) + (Δyn_1^2)\n",
    "dn_1 = sqrt(dn_1square)\n",
    "dn_square = (Δxn^2) + (Δyn^2)\n",
    "dn = sqrt(dn_square)\n",
    "\n",
    "# Calculate density using modified Bessel function\n",
    "density_val = (dn/sigma^2) * (exp((-(dn_square) - (dn_1square))/sigma^2)) * modified_bessel(dt, dn, dn_1, sigma)\n",
    "\n",
    "# Handle edge cases with numerical integration\n",
    "if density_val == Inf || isnan(density_val) || density_val == 0\n",
    "density_val = 0\n",
    "for θ in 0:dt:2*pi\n",
    "density_val += exp(-((dn_square) + (dn_1square) - (2*dn*dn_1*cos(θ)))/(2*sigma^2))\n",
    "end \n",
    "density_val *= (dn/sigma^2)*dt\n",
    "end\n",
    "\n",
    "return density_val\n",
    "end"
   ]
  },
  {
   "cell_type": "code",
   "execution_count": 55,
   "metadata": {},
   "outputs": [
    {
     "data": {
      "text/plain": [
       "forward_algorithm (generic function with 1 method)"
      ]
     },
     "metadata": {},
     "output_type": "display_data"
    }
   ],
   "source": [
    "function forward_algorithm(particle1::Matrix{Float64}, particle2::Matrix{Float64}, d_dimer::Float64, param::Vector{Float64}; dt=0.01, sigma=0.1)\n",
    "\n",
    "    N = min(size(particle1, 2), size(particle2, 2)) - 1\n",
    " \n",
    "    alpha = zeros(2, N)\n",
    "    scale = zeros(N)\n",
    "    e1_vec =[]\n",
    "    e2_vec = []\n",
    "    # Ensure we don't go out of bounds when calculating initial state probabilities\n",
    "    frame_index = min(2, N)\n",
    "    \n",
    "\n",
    "    e1_initial = compute_free_density(particle1, particle2, frame_index, sigma=sigma, dt=dt)\n",
    "    \n",
    "    e2_initial = compute_dimer_density(particle1, particle2, frame_index, d_dimer, sigma=sigma, dt=dt)\n",
    "    push!(e1_vec, e1_initial)\n",
    "    push!(e2_vec, e2_initial)\n",
    "    alpha[1, 1] = e1_initial\n",
    "    alpha[2, 1] = e2_initial\n",
    "    \n",
    "    scale[1] = sum(alpha[:, 1])\n",
    "    alpha[:, 1] ./= max(scale[1], eps()) # Avoid division by zero\n",
    "    \n",
    "   \n",
    "    k_on = param[1]\n",
    "    k_off = param[2]\n",
    "    T = [1-(k_on*dt) k_on*dt; \n",
    "         k_off*dt 1-(k_off*dt)]\n",
    "    \n",
    "    \n",
    "    for t in 2:N\n",
    "       \n",
    "        frame_index = min(t + 2, size(particle1, 2))\n",
    "        \n",
    "        \n",
    "        e1 = compute_free_density(particle1, particle2, frame_index, sigma=sigma, dt=dt)\n",
    "        e2 = compute_dimer_density(particle1, particle2, frame_index, d_dimer, sigma=sigma, dt=dt)\n",
    "        push!(e1_vec, e1)\n",
    "        push!(e2_vec, e2)\n",
    "        \n",
    "        alpha[1, t] = (alpha[1, t-1]*T[1,1] + alpha[2, t-1]*T[2,1]) * e1\n",
    "        alpha[2, t] = (alpha[1, t-1]*T[1,2] + alpha[2, t-1]*T[2,2]) * e2\n",
    "        \n",
    "        \n",
    "        scale[t] = sum(alpha[:, t])\n",
    "       # println(\"scale[t]: \", scale[t])\n",
    "        alpha[:, t] ./= max(scale[t], eps()) \n",
    "    end\n",
    "    \n",
    "    \n",
    "    loglikelihood = sum(log.(max.(scale, eps()))) \n",
    "    \n",
    "    return alpha, loglikelihood, e1_vec, e2_vec\n",
    "end"
   ]
  },
  {
   "cell_type": "code",
   "execution_count": 56,
   "metadata": {},
   "outputs": [
    {
     "data": {
      "text/plain": [
       "compute_dimer_density (generic function with 1 method)"
      ]
     },
     "metadata": {},
     "output_type": "display_data"
    }
   ],
   "source": [
    "function compute_dimer_density(particle1::Matrix{Float64}, particle2::Matrix{Float64},index::Int, d_dimer::Float64; sigma=0.1, dt=0.01)\n",
    "\n",
    "Δxn = particle1[1, index] - particle2[1, index]  \n",
    "Δyn = particle1[2, index] - particle2[2, index]  \n",
    "\n",
    "\n",
    "dn_square = (Δxn^2) + (Δyn^2)\n",
    "dn = sqrt(dn_square)\n",
    "\n",
    "\n",
    "density_val = (dn/sigma^2) * exp(((-(d_dimer^2) - (dn_square))/sigma^2)) * modified_bessel(dt, d_dimer, dn, sigma)\n",
    "\n",
    "\n",
    "if density_val == Inf || isnan(density_val) || density_val == 0\n",
    "density_val = 0\n",
    "for θ in 0:dt:2*pi\n",
    "density_val += exp(-((dn_square) + (d_dimer^2) - (2*dn*d_dimer*cos(θ)))/(2*sigma^2))\n",
    "end \n",
    "density_val *= (dn/sigma^2)*dt\n",
    "end\n",
    "\n",
    "return density_val\n",
    "end"
   ]
  },
  {
   "cell_type": "code",
   "execution_count": 57,
   "metadata": {},
   "outputs": [
    {
     "data": {
      "text/plain": [
       "modified_bessel (generic function with 1 method)"
      ]
     },
     "metadata": {},
     "output_type": "display_data"
    }
   ],
   "source": [
    "function modified_bessel(dt, d1, d2, σ)\n",
    "    result_me = 0.0\n",
    "\n",
    "    x = (d1*d2)/(σ^2)\n",
    "\n",
    "    for θ in 0:dt:2*pi\n",
    "        result_me += exp(x * cos(θ))\n",
    "    end\n",
    "\n",
    "    result_me  *= dt / (2*pi)\n",
    "\n",
    "    return result_me \n",
    "end"
   ]
  },
  {
   "cell_type": "code",
   "execution_count": 58,
   "metadata": {},
   "outputs": [
    {
     "name": "stdout",
     "output_type": "stream",
     "text": [
      "section_time_stamps: Any[2, 22, 9]\n",
      "modes: full\n",
      "section_time_stamps: Any[10, 59, 1]\n",
      "modes: full\n",
      "section_time_stamps: Any[1, 6, 10]\n",
      "modes: full\n",
      "section_time_stamps: Any[10, 11, 21]\n",
      "modes: full\n",
      "section_time_stamps: Any[22, 13, 1]\n",
      "modes: full\n"
     ]
    },
    {
     "data": {
      "text/plain": [
       "([0.9631439311621195 0.9773202970344602 … 0.8420946378798235 0.8420946378798235; 0.5251787602449255 0.542767047192076 … 0.8324010927243005 0.8324010927243005], [0.9804955901151899 0.9681213379900971 … 0.8376985272942873 0.8376985272942873; 0.518734000969482 0.5388454209350074 … 0.8413829751394591 0.8413829751394591], [1, 1, 2, 2, 2, 2, 2, 2, 2, 2  …  2, 2, 2, 2, 2, 2, 2, 2, 2, 1], 197, [0.5, 0.5])"
      ]
     },
     "metadata": {},
     "output_type": "display_data"
    }
   ],
   "source": [
    "p1,p2 = simulation(0.5, 0.5, 10)"
   ]
  },
  {
   "cell_type": "code",
   "execution_count": 59,
   "metadata": {},
   "outputs": [
    {
     "data": {
      "text/plain": [
       "2×198 Matrix{Float64}:\n",
       " 0.963144  0.97732   0.97732   0.980017  …  0.842095  0.842095  0.842095\n",
       " 0.525179  0.542767  0.542767  0.56371      0.841038  0.832401  0.832401"
      ]
     },
     "metadata": {},
     "output_type": "display_data"
    }
   ],
   "source": [
    "p1"
   ]
  },
  {
   "cell_type": "code",
   "execution_count": 60,
   "metadata": {},
   "outputs": [
    {
     "data": {
      "text/plain": [
       "2×198 Matrix{Float64}:\n",
       " 0.969922  0.969928  0.978423  1.00331   …  0.84701   0.828145  0.83277\n",
       " 0.521028  0.549566  0.524799  0.581763     0.859488  0.834952  0.845505"
      ]
     },
     "metadata": {},
     "output_type": "display_data"
    }
   ],
   "source": [
    "σ = 0.01\n",
    "p1_noise = p1 .+ σ*randn(size(p1))\n",
    "p2_noise = p2 .+ σ*randn(size(p2))\n"
   ]
  },
  {
   "cell_type": "code",
   "execution_count": 61,
   "metadata": {},
   "outputs": [
    {
     "data": {
      "text/plain": [
       "\"noisy_animation.mp4\""
      ]
     },
     "metadata": {},
     "output_type": "display_data"
    }
   ],
   "source": [
    "animate_particles(p1_noise, p2_noise, \"noisy_animation.mp4\")"
   ]
  },
  {
   "cell_type": "code",
   "execution_count": 62,
   "metadata": {},
   "outputs": [
    {
     "data": {
      "text/plain": [
       "([0.499353182605938 0.4962150281715143 … 0.0491297356802894 0.049179992277330345; 0.500646817394062 0.5037849718284858 … 0.9508702643197107 0.9508200077226697], 138.44540840742283, Any[1.521632063646827, 2.302928328677802, 1.1138718278778397, 0.9475990767711123, 0.678219349071898, 2.3080328583594043, 0.6085283807276637, 2.6564026808281365, 1.8877133293548398, 1.8951296506712108  …  2.8949399244098704, 0.9920531088667751, 2.828820673953574, 1.3235595495212247, 1.6704342221843387, 2.6958380012867904, 0.8167909070046717, 2.8652419721579307, 1.3705653470682972, 1.3705653470682972], Any[1.5255740354632197, 2.332079310918011, 1.1739516051172445, 0.9518030778134458, 0.6778108733931639, 2.2960839707130436, 0.6400440862342044, 2.6414050271500256, 2.030828933722462, 1.9638284567251858  …  3.0453207876445214, 1.106890189942407, 2.8365262108935467, 1.447398122271484, 1.6909234066226408, 2.7515315333630586, 0.8870676178975967, 2.860067235730738, 1.5018571807705383, 1.5018571807705383])"
      ]
     },
     "metadata": {},
     "output_type": "display_data"
    }
   ],
   "source": [
    "alpha, loglikelihood,e1,e2 = forward_algorithm(p1, p2, 0.01, [0.5, 0.5])\n",
    "alpha_noise, loglikelihood_noise,e1_noise,e2_noise = forward_algorithm(p1_noise, p2_noise, 0.01, [0.5, 0.5])"
   ]
  },
  {
   "cell_type": "code",
   "execution_count": 63,
   "metadata": {},
   "outputs": [
    {
     "data": {
      "text/plain": [
       "197-element Vector{Float64}:\n",
       " 0.0\n",
       " 0.0\n",
       " 0.0\n",
       " 0.0\n",
       " 0.0\n",
       " 0.0\n",
       " 0.0\n",
       " 0.0\n",
       " 0.0\n",
       " 0.0\n",
       " ⋮\n",
       " 0.0\n",
       " 0.0\n",
       " 0.0\n",
       " 0.0\n",
       " 0.0\n",
       " 0.0\n",
       " 0.0\n",
       " 0.0\n",
       " 0.0"
      ]
     },
     "metadata": {},
     "output_type": "display_data"
    }
   ],
   "source": [
    "states_round =round.(alpha[1,:])\n",
    "states_noise_round = round.(alpha_noise[1,:])"
   ]
  },
  {
   "cell_type": "code",
   "execution_count": 64,
   "metadata": {},
   "outputs": [
    {
     "data": {
      "text/plain": [
       "GLMakie.Screen(...)"
      ]
     },
     "metadata": {},
     "output_type": "display_data"
    }
   ],
   "source": [
    "using CairoMakie\n",
    "fig = Figure(size=(800, 600))\n",
    "ax = Axis(fig[1, 1], title=\"Free density\", xlabel=\"Time\", ylabel=\"probaility\")\n",
    "ax1 = Axis(fig[2, 1], title=\"Dimer density\", xlabel=\"Time\", ylabel=\"probaility\")\n",
    "#ax2 = Axis(fig[3, 1], title=\"position_diference in x \", xlabel=\"Time\", ylabel=\"distacne\")\n",
    "#ax3 = Axis(fig[4, 1], title=\"position_diference in y \", xlabel=\"Time\", ylabel=\"distacne\")\n",
    "ax4 = Axis(fig[6, 1], title=\"alpha[2,:]\", xlabel=\"Time\", ylabel=\"dimer probaility\")\n",
    "ax5 = Axis(fig[5, 1], title=\"alpha[1,:]\", xlabel=\"Time\", ylabel=\"free probability\")\n",
    "\n",
    "lines!(ax, e1, color=:blue, label=\"Free density\")\n",
    "lines!(ax1, e2, color=:red, label=\"Dimer density\")\n",
    "#lines!(ax2, p1[1,:] - p2[1,:], color=:green, label=\"x\")\n",
    "#lines!(ax3, p1[2,:] - p2[2,:], color=:orange, label=\"y\")\n",
    "lines!(ax4, alpha[1,:], color=:purple, label=\"dimer\")\n",
    "lines!(ax5, alpha[2,:], color=:black, label=\"free\")\n",
    "axislegend(ax, position = :rt) \n",
    "display(fig)\n"
   ]
  },
  {
   "cell_type": "code",
   "execution_count": 65,
   "metadata": {},
   "outputs": [],
   "source": [
    "save(\"probability_fig.png\", fig)"
   ]
  },
  {
   "cell_type": "code",
   "execution_count": 66,
   "metadata": {},
   "outputs": [
    {
     "data": {
      "text/plain": [
       "GLMakie.Screen(...)"
      ]
     },
     "metadata": {},
     "output_type": "display_data"
    }
   ],
   "source": [
    "fig2 = Figure(size=(800, 600))\n",
    "ax6 = Axis(fig2[1, 1], title=\"Free density with noise\", xlabel=\"Time\", ylabel=\"probaility\")\n",
    "ax7 = Axis(fig2[2, 1], title=\"Dimer density with noise\", xlabel=\"Time\", ylabel=\"probaility\") \n",
    "ax8 = Axis(fig2[3, 1], title=\"alpha_noise[1,:]\", xlabel=\"Time\", ylabel=\"free probaility\")\n",
    "ax9 = Axis(fig2[4, 1], title=\"alpha_noise[2,:]\", xlabel=\"Time\", ylabel=\"dimer probaility\")\n",
    "lines!(ax6, e1_noise, color=:blue, label=\"Free density with noise\")\n",
    "lines!(ax7, e2_noise, color=:red, label=\"Dimer density with noise\")\n",
    "lines!(ax8, alpha_noise[1,:], color=:black, label=\"free with noise\")\n",
    "lines!(ax9, alpha_noise[2,:], color=:purple, label=\"dimer with noise\")\n",
    "axislegend(ax6, position = :rt)\n",
    "display(fig2)   "
   ]
  },
  {
   "cell_type": "code",
   "execution_count": 67,
   "metadata": {},
   "outputs": [],
   "source": [
    "save(\"probability_noise.png\", fig2)"
   ]
  },
  {
   "cell_type": "code",
   "execution_count": 68,
   "metadata": {},
   "outputs": [
    {
     "data": {
      "text/plain": [
       "([0.499353182605938 -79.00002510039849 … -10.439075366839841 -10.439075366839829; 0.500646817394062 80.00002510039849 … 11.439075366839841 11.439075366839829], 41306.46371686692, Any[1.521632063646827, 2.302928328677802, 1.1138718278778397, 0.9475990767711123, 0.678219349071898, 2.3080328583594043, 0.6085283807276637, 2.6564026808281365, 1.8877133293548398, 1.8951296506712108  …  2.8949399244098704, 0.9920531088667751, 2.828820673953574, 1.3235595495212247, 1.6704342221843387, 2.6958380012867904, 0.8167909070046717, 2.8652419721579307, 1.3705653470682972, 1.3705653470682972], Any[1.5255740354632197, 2.332079310918011, 1.1739516051172445, 0.9518030778134458, 0.6778108733931639, 2.2960839707130436, 0.6400440862342044, 2.6414050271500256, 2.030828933722462, 1.9638284567251858  …  3.0453207876445214, 1.106890189942407, 2.8365262108935467, 1.447398122271484, 1.6909234066226408, 2.7515315333630586, 0.8870676178975967, 2.860067235730738, 1.5018571807705383, 1.5018571807705383])"
      ]
     },
     "metadata": {},
     "output_type": "display_data"
    }
   ],
   "source": [
    "using Optim\n",
    "\n",
    "function objective_function(param, p1, p2, d_dimer)\n",
    "    _, loglikelihood,e1,e2 = forward_algorithm(p1, p2, d_dimer, param)\n",
    "    return -loglikelihood\n",
    "end\n",
    "\n",
    "\n",
    "initial_params = [0.1, 0.1]\n",
    "\n",
    "\n",
    "function wrapper(param)\n",
    "    return objective_function(param, p1, p2, 0.01)\n",
    "end\n",
    "function wrapper_noise(param)\n",
    "    return objective_function(param, p1_noise, p2_noise, 0.01)\n",
    "end\n",
    "\n",
    "result = optimize(wrapper, initial_params, NelderMead())\n",
    "result_noise = optimize(wrapper_noise, initial_params, NelderMead())\n",
    "\n",
    "\n",
    "\n",
    "optimal_params = Optim.minimizer(result)\n",
    "optimal_params_noise = Optim.minimizer(result_noise)\n",
    "k_on_optimized = optimal_params[1]\n",
    "k_off_optimized = optimal_params[2]\n",
    "k_off_optimized_noise = optimal_params_noise[2]\n",
    "k_on_optimized_noise = optimal_params_noise[1]\n",
    "\n",
    "\n",
    "_, final_loglikelihood,e1,e2 = forward_algorithm(p1, p2, 0.01, optimal_params)\n",
    "_, final_loglikelihood_noise,e1_noise,e2_noise = forward_algorithm(p1_noise, p2_noise, 0.01, optimal_params_noise)\n"
   ]
  },
  {
   "cell_type": "code",
   "execution_count": 69,
   "metadata": {},
   "outputs": [
    {
     "name": "stdout",
     "output_type": "stream",
     "text": [
      "Optimized k_on: 8586.773241686766\n",
      "Optimized k_off: -10195.391679322804\n",
      "Final Log-Likelihood: 681.5213289818108\n",
      "Optimized k_on with noise: 5.573055016171961e93\n",
      "Optimized k_off with noise: -6.610427164207669e93\n",
      "Final Log-Likelihood with noise: 41306.46371686692\n"
     ]
    }
   ],
   "source": [
    "println(\"Optimized k_on: \", k_on_optimized)\n",
    "println(\"Optimized k_off: \", k_off_optimized)\n",
    "println(\"Final Log-Likelihood: \", final_loglikelihood)\n",
    "\n",
    "println(\"Optimized k_on with noise: \", k_on_optimized_noise)\n",
    "println(\"Optimized k_off with noise: \", k_off_optimized_noise)\n",
    "println(\"Final Log-Likelihood with noise: \", final_loglikelihood_noise)"
   ]
  },
  {
   "cell_type": "code",
   "execution_count": null,
   "metadata": {},
   "outputs": [],
   "source": []
  },
  {
   "cell_type": "code",
   "execution_count": 73,
   "metadata": {},
   "outputs": [],
   "source": [
    "for_val= zeros( (101, 101) )\n",
    "\n",
    "for i in 0:.01:1\n",
    "    n=1\n",
    "    for j in 0:.01:1\n",
    "        m=1\n",
    "        alpha, loglikelihood, e1_vec, e2_vec = forward_algorithm(p1, p2, 0.01, [i, j])\n",
    "        for_val[n,m] = loglikelihood\n",
    "    end\n",
    "\n",
    "end \n",
    "    "
   ]
  },
  {
   "cell_type": "code",
   "execution_count": 80,
   "metadata": {},
   "outputs": [],
   "source": [
    "for_val_noise= zeros( (101, 101) )\n",
    "\n",
    "for i in 0:.01:1\n",
    "    n=1\n",
    "    for j in 0:.01:1\n",
    "        m=1\n",
    "        alpha, loglikelihood, e1_vec, e2_vec = forward_algorithm(p1_noise, p2_noise, 0.01, [i, j])\n",
    "        for_val_noise[n,m] = loglikelihood\n",
    "    end\n",
    "\n",
    "end \n",
    "    "
   ]
  },
  {
   "cell_type": "code",
   "execution_count": null,
   "metadata": {},
   "outputs": [],
   "source": [
    "using CairoMakie\n",
    "\n",
    "param1_range = 0:0.01:1\n",
    "param2_range = 0:0.01:1\n",
    "\n",
    "fig = Figure(size = (1200, 500))\n",
    "\n",
    "ax1 = Axis(fig[1, 1], \n",
    "    xlabel = \"Parameter 1 (k_on)\", \n",
    "    ylabel = \"Log-Likelihood\",\n",
    "    title = \"Log-Likelihood vs Parameter 1\")\n",
    "\n",
    "ll_param1 = [maximum(for_val[i, :]) for i in 1:101]\n",
    "lines!(ax1, param1_range, ll_param1, linewidth = 3, color = :blue)\n",
    "\n",
    "ax2 = Axis(fig[1, 2], \n",
    "    xlabel = \"Parameter 2 (k_off)\", \n",
    "    ylabel = \"Log-Likelihood\",\n",
    "    title = \"Log-Likelihood vs Parameter 2\")\n",
    "\n",
    "ll_param2 = [maximum(for_val[:, j]) for j in 1:101]\n",
    "lines!(ax2, param2_range, ll_param2, linewidth = 3, color = :red)\n",
    "\n",
    "fig"
   ]
  },
  {
   "cell_type": "code",
   "execution_count": 84,
   "metadata": {},
   "outputs": [],
   "source": [
    "save( \"likelihood_plots.png\",fig)"
   ]
  },
  {
   "cell_type": "code",
   "execution_count": null,
   "metadata": {},
   "outputs": [],
   "source": [
    "using CairoMakie\n",
    "\n",
    "param1_range = 0:0.01:1\n",
    "param2_range = 0:0.01:1\n",
    "\n",
    "fig_noise = Figure(size = (1200, 500))\n",
    "\n",
    "ax1 = Axis(fig_noise[1, 1], \n",
    "    xlabel = \"Parameter 1 (k_on)\", \n",
    "    ylabel = \"Log-Likelihood\",\n",
    "    title = \"Log-Likelihood vs Parameter 1 with noise \")\n",
    "\n",
    "ll_param1 = [maximum(for_val_noise[i, :]) for i in 1:101]\n",
    "lines!(ax1, param1_range, ll_param1, linewidth = 3, color = :blue)\n",
    "\n",
    "ax2 = Axis(fig_noise[1, 2], \n",
    "    xlabel = \"Parameter 2 (k_off)\", \n",
    "    ylabel = \"Log-Likelihood\",\n",
    "    title = \"Log-Likelihood vs Parameter 2 with noise\")\n",
    "\n",
    "\n",
    "ll_param2 = [maximum(for_val_noise[:, j]) for j in 1:101]\n",
    "lines!(ax2, param2_range, ll_param2, linewidth = 3, color = :red)\n",
    "\n",
    "fig_noise"
   ]
  },
  {
   "cell_type": "code",
   "execution_count": 86,
   "metadata": {},
   "outputs": [],
   "source": [
    "save( \"likelihood_plots_noise .png\",fig_noise)"
   ]
  },
  {
   "cell_type": "code",
   "execution_count": null,
   "metadata": {},
   "outputs": [],
   "source": []
  },
  {
   "cell_type": "code",
   "execution_count": null,
   "metadata": {},
   "outputs": [],
   "source": []
  },
  {
   "cell_type": "code",
   "source": "# Create custom time vector for simulation output\nfunction create_time_vector(p1, dt=0.016)\n    n_steps = size(p1, 2)\n    time_vec = collect(0:dt:(n_steps-1)*dt)\n    return time_vec\nend\n\n# Generate time vector for the simulation\ntime_simulation = create_time_vector(p1, 0.016)\nprintln(\"Time vector length: \", length(time_simulation))\nprintln(\"First 10 time points: \", time_simulation[1:10])\nprintln(\"Total simulation time: \", time_simulation[end], \" seconds\")",
   "metadata": {},
   "execution_count": null,
   "outputs": []
  }
 ],
 "metadata": {
  "kernelspec": {
   "display_name": "Julia 1.11.3",
   "language": "julia",
   "name": "julia-1.11"
  },
  "language_info": {
   "file_extension": ".jl",
   "mimetype": "application/julia",
   "name": "julia",
   "version": "1.11.3"
  }
 },
 "nbformat": 4,
 "nbformat_minor": 2
}