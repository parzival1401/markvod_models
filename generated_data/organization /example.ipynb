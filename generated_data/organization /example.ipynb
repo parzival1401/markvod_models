{
 "cells": [
  {
   "cell_type": "code",
   "execution_count": 8,
   "id": "a86fb6e3",
   "metadata": {},
   "outputs": [
    {
     "name": "stderr",
     "output_type": "stream",
     "text": [
      "\u001b[32m\u001b[1m  Activating\u001b[22m\u001b[39m project at `~/Documents/university /fall 2024/markov model/markvod_models/generated_data`\n"
     ]
    },
    {
     "name": "stdout",
     "output_type": "stream",
     "text": [
      "\u001b[32m\u001b[1mStatus\u001b[22m\u001b[39m `~/Documents/university /fall 2024/markov model/markvod_models/generated_data/Project.toml`\n",
      "  \u001b[90m[31c24e10] \u001b[39mDistributions v0.25.119\n",
      "\u001b[32m⌃\u001b[39m \u001b[90m[e9467ef8] \u001b[39mGLMakie v0.11.3\n",
      "  \u001b[90m[429524aa] \u001b[39mOptim v1.12.0\n",
      "\u001b[36m\u001b[1mInfo\u001b[22m\u001b[39m Packages marked with \u001b[32m⌃\u001b[39m have new versions available and may be upgradable.\n"
     ]
    }
   ],
   "source": [
    "using Pkg\n",
    "Pkg.activate(\"..\")\n",
    "Pkg.instantiate()\n",
    "Pkg.status()"
   ]
  },
  {
   "cell_type": "code",
   "execution_count": 12,
   "id": "2a3e057d",
   "metadata": {},
   "outputs": [
    {
     "data": {
      "text/plain": [
       "path_correction! (generic function with 2 methods)"
      ]
     },
     "metadata": {},
     "output_type": "display_data"
    }
   ],
   "source": [
    "# Load the necessary libraries\n",
    "using Distributions\n",
    "using GLMakie\n",
    "using Random\n",
    "using Optim\n",
    "\n",
    "# Include the implementation file\n",
    "include(\"methods_implementation.jl\")\n",
    "\n"
   ]
  },
  {
   "cell_type": "code",
   "execution_count": 13,
   "id": "eb4a84c9",
   "metadata": {},
   "outputs": [
    {
     "data": {
      "text/plain": [
       "\"particle_simulation.mp4\""
      ]
     },
     "metadata": {},
     "output_type": "display_data"
    }
   ],
   "source": [
    "# Set simulation parameters\n",
    "transition_rate_12 = 0.5\n",
    "transition_rate_21 = 0.15\n",
    "bond_length = 0.01\n",
    "desired_state_changes = 6\n",
    "\n",
    "# Run matrix-based simulation\n",
    "particle1_matrix, particle2_matrix = simulation(transition_rate_12, transition_rate_21, desired_state_changes)\n",
    "matrix_animation = animate_particles(particle1_matrix, particle2_matrix, \"matrix_simulation.mp4\")\n",
    "\n",
    "# Run particle-based simulation\n",
    "p1_trajectory, p2_trajectory, states, times = simulation_with_particles( transition_rate_12, transition_rate_21, desired_state_changes, bond_length=bond_length)\n",
    "particle_animation = animate_particles(p1_trajectory, p2_trajectory, \"particle_simulation.mp4\")"
   ]
  },
  {
   "cell_type": "code",
   "execution_count": null,
   "id": "5021846c",
   "metadata": {},
   "outputs": [],
   "source": []
  }
 ],
 "metadata": {
  "kernelspec": {
   "display_name": "Julia 1.11.3",
   "language": "julia",
   "name": "julia-1.11"
  },
  "language_info": {
   "file_extension": ".jl",
   "mimetype": "application/julia",
   "name": "julia",
   "version": "1.11.3"
  }
 },
 "nbformat": 4,
 "nbformat_minor": 5
}
