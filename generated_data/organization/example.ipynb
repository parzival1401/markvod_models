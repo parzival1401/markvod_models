{
 "cells": [
  {
   "cell_type": "code",
   "execution_count": 1,
   "id": "a86fb6e3",
   "metadata": {},
   "outputs": [
    {
     "name": "stderr",
     "output_type": "stream",
     "text": [
      "\u001b[32m\u001b[1m  Activating\u001b[22m\u001b[39m new project at `/generated_data/types`\n"
     ]
    },
    {
     "ename": "Base.IOError",
     "evalue": "IOError: mkdir(\"/generated_data\"; mode=0o777): read-only file system (EROFS)",
     "output_type": "error",
     "traceback": [
      "IOError: mkdir(\"/generated_data\"; mode=0o777): read-only file system (EROFS)\n",
      "\n",
      "Stacktrace:\n",
      "  [1] mkpath\n",
      "    @ ./file.jl:235 [inlined]\n",
      "  [2] write_manifest\n",
      "    @ /opt/homebrew/Cellar/julia/1.11.3/share/julia/stdlib/v1.11/Pkg/src/manifest.jl:317 [inlined]\n",
      "  [3] write_env(env::Pkg.Types.EnvCache; update_undo::Bool, skip_writing_project::Bool)\n",
      "    @ Pkg.Types /opt/homebrew/Cellar/julia/1.11.3/share/julia/stdlib/v1.11/Pkg/src/Types.jl:1128\n",
      "  [4] write_env\n",
      "    @ /opt/homebrew/Cellar/julia/1.11.3/share/julia/stdlib/v1.11/Pkg/src/Types.jl:1105 [inlined]\n",
      "  [5] up(ctx::Pkg.Types.Context, pkgs::Vector{Pkg.Types.PackageSpec}, level::Pkg.Types.UpgradeLevel; skip_writing_project::Bool, preserve::Nothing)\n",
      "    @ Pkg.Operations /opt/homebrew/Cellar/julia/1.11.3/share/julia/stdlib/v1.11/Pkg/src/Operations.jl:1635\n",
      "  [6] up\n",
      "    @ /opt/homebrew/Cellar/julia/1.11.3/share/julia/stdlib/v1.11/Pkg/src/Operations.jl:1608 [inlined]\n",
      "  [7] up(ctx::Pkg.Types.Context, pkgs::Vector{Pkg.Types.PackageSpec}; level::Pkg.Types.UpgradeLevel, mode::Pkg.Types.PackageMode, preserve::Nothing, update_registry::Bool, skip_writing_project::Bool, kwargs::@Kwargs{})\n",
      "    @ Pkg.API /opt/homebrew/Cellar/julia/1.11.3/share/julia/stdlib/v1.11/Pkg/src/API.jl:388\n",
      "  [8] up\n",
      "    @ /opt/homebrew/Cellar/julia/1.11.3/share/julia/stdlib/v1.11/Pkg/src/API.jl:362 [inlined]\n",
      "  [9] up\n",
      "    @ /opt/homebrew/Cellar/julia/1.11.3/share/julia/stdlib/v1.11/Pkg/src/API.jl:164 [inlined]\n",
      " [10] instantiate(ctx::Pkg.Types.Context; manifest::Nothing, update_registry::Bool, verbose::Bool, platform::Base.BinaryPlatforms.Platform, allow_build::Bool, allow_autoprecomp::Bool, kwargs::@Kwargs{})\n",
      "    @ Pkg.API /opt/homebrew/Cellar/julia/1.11.3/share/julia/stdlib/v1.11/Pkg/src/API.jl:1196\n",
      " [11] instantiate\n",
      "    @ /opt/homebrew/Cellar/julia/1.11.3/share/julia/stdlib/v1.11/Pkg/src/API.jl:1172 [inlined]\n",
      " [12] instantiate(; kwargs::@Kwargs{})\n",
      "    @ Pkg.API /opt/homebrew/Cellar/julia/1.11.3/share/julia/stdlib/v1.11/Pkg/src/API.jl:1171\n",
      " [13] top-level scope\n",
      "    @ ~/Documents/university /fall 2024/markov model/markvod_models/generated_data/organization/jl_notebook_cell_df34fa98e69747e1a8f8a730347b8e2f_W0sZmlsZQ==.jl:3"
     ]
    }
   ],
   "source": [
    "using Pkg\n",
    "Pkg.activate(\"/generated_data/types\")\n",
    "Pkg.instantiate()\n",
    "Pkg.status()"
   ]
  },
  {
   "cell_type": "code",
   "execution_count": 5,
   "id": "2a3e057d",
   "metadata": {},
   "outputs": [
    {
     "data": {
      "text/plain": [
       "path_correction! (generic function with 2 methods)"
      ]
     },
     "metadata": {},
     "output_type": "display_data"
    }
   ],
   "source": [
    "# Load the necessary libraries\n",
    "using Distributions\n",
    "using GLMakie\n",
    "using Random\n",
    "using Optim\n",
    "\n",
    "# Include the implementation file\n",
    "include(\"methods_implementation.jl\")\n",
    "\n"
   ]
  },
  {
   "cell_type": "code",
   "execution_count": 6,
   "id": "eb4a84c9",
   "metadata": {},
   "outputs": [
    {
     "data": {
      "text/plain": [
       "\"particle_simulation.mp4\""
      ]
     },
     "metadata": {},
     "output_type": "display_data"
    }
   ],
   "source": [
    "# Set simulation parameters\n",
    "transition_rate_12 = 0.5\n",
    "transition_rate_21 = 0.15\n",
    "bond_length = 0.01\n",
    "desired_state_changes = 6\n",
    "\n",
    "# Run matrix-based simulation\n",
    "particle1_matrix, particle2_matrix = simulation(transition_rate_12, transition_rate_21, desired_state_changes)\n",
    "matrix_animation = animate_particles(particle1_matrix, particle2_matrix, \"matrix_simulation.mp4\")\n",
    "\n",
    "# Run particle-based simulation\n",
    "p1_trajectory, p2_trajectory, states, times = simulation_with_particles( transition_rate_12, transition_rate_21, desired_state_changes, bond_length=bond_length)\n",
    "particle_animation = animate_particles(p1_trajectory, p2_trajectory, \"particle_simulation.mp4\")"
   ]
  },
  {
   "cell_type": "code",
   "execution_count": null,
   "id": "5021846c",
   "metadata": {},
   "outputs": [],
   "source": []
  }
 ],
 "metadata": {
  "kernelspec": {
   "display_name": "Julia 1.11.3",
   "language": "julia",
   "name": "julia-1.11"
  },
  "language_info": {
   "file_extension": ".jl",
   "mimetype": "application/julia",
   "name": "julia",
   "version": "1.11.3"
  }
 },
 "nbformat": 4,
 "nbformat_minor": 5
}
